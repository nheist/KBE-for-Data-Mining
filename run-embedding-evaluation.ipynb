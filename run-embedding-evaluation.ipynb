{
 "cells": [
  {
   "cell_type": "markdown",
   "id": "4b5561f0",
   "metadata": {},
   "source": [
    "# Prepare Evaluation Framework"
   ]
  },
  {
   "cell_type": "code",
   "execution_count": 1,
   "id": "81f42f2f",
   "metadata": {},
   "outputs": [
    {
     "name": "stdout",
     "output_type": "stream",
     "text": [
      "Start evaluation...\n"
     ]
    }
   ],
   "source": [
    "# make sure that the evaluation framework directory is in PATH\n",
    "import sys\n",
    "sys.path.append('./evaluation_framework/')\n",
    "\n",
    "# initialize framework manager\n",
    "from evaluation_framework.manager import FrameworkManager\n",
    "evaluation_manager = FrameworkManager()"
   ]
  },
  {
   "cell_type": "markdown",
   "id": "487644c5",
   "metadata": {},
   "source": [
    "# Run Evaluation Framework with Individual Embedding Files"
   ]
  },
  {
   "cell_type": "code",
   "execution_count": null,
   "id": "0ea4bf11",
   "metadata": {},
   "outputs": [],
   "source": [
    "# run all approaches (may take several hours per approach!)\n",
    "embedding_approaches = ['rdf2vec', 'DeepWalk', 'Node2Vec', 'TransE-L1', 'TransE-L2', 'TransR', 'RotatE', 'ComplEx', 'DistMult', 'RESCAL']\n",
    "for approach in embedding_approaches:\n",
    "    path_to_embedding_file = f'./data/vectors_dbpedia_{approach}.txt'\n",
    "    evaluation_manager.evaluate(path_to_embedding_file, vector_size=200, parallel=True, debugging_mode=False)"
   ]
  }
 ],
 "metadata": {
  "kernelspec": {
   "display_name": "Python 3",
   "language": "python",
   "name": "python3"
  },
  "language_info": {
   "codemirror_mode": {
    "name": "ipython",
    "version": 3
   },
   "file_extension": ".py",
   "mimetype": "text/x-python",
   "name": "python",
   "nbconvert_exporter": "python",
   "pygments_lexer": "ipython3",
   "version": "3.8.3"
  }
 },
 "nbformat": 4,
 "nbformat_minor": 5
}
