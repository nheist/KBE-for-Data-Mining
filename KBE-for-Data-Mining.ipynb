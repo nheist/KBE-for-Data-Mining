{
 "cells": [
  {
   "cell_type": "markdown",
   "metadata": {},
   "source": [
    "# Introduction\n",
    "\n",
    "In this notebook we show how to generate the embedding vectors for the Link Prediction approaches using DGL-KE.\n",
    "\n",
    "To be able to use DGL-KE, please follow the instructions on their [GitHub page](https://github.com/awslabs/dgl-ke). As of now, it is as easy as running the following cell:"
   ]
  },
  {
   "cell_type": "code",
   "execution_count": null,
   "metadata": {},
   "outputs": [],
   "source": [
    "!pip install dgl\n",
    "!pip install dglke"
   ]
  },
  {
   "cell_type": "markdown",
   "metadata": {},
   "source": [
    "However, you also have to make sure to install a backend used by DGL-KE. In our case, we use [PyTorch](https://pytorch.org)."
   ]
  },
  {
   "cell_type": "markdown",
   "metadata": {},
   "source": [
    "# Retrieve DBpedia files"
   ]
  },
  {
   "cell_type": "code",
   "execution_count": null,
   "metadata": {},
   "outputs": [],
   "source": [
    "!wget --directory-prefix=data/ http://downloads.dbpedia.org/2016-10/dbpedia_2016-10.nt\n",
    "!wget --directory-prefix=data/ http://downloads.dbpedia.org/2016-10/core-i18n/en/instance_types_en.ttl.bz2\n",
    "!wget --directory-prefix=data/ http://downloads.dbpedia.org/2016-10/core-i18n/en/instance_types_transitive_en.ttl.bz2\n",
    "!wget --directory-prefix=data/ http://downloads.dbpedia.org/2016-10/core-i18n/en/mappingbased_objects_en.ttl.bz2"
   ]
  },
  {
   "cell_type": "markdown",
   "metadata": {},
   "source": [
    "# Convert DBpedia files to DGL-KE format"
   ]
  },
  {
   "cell_type": "code",
   "execution_count": null,
   "metadata": {},
   "outputs": [],
   "source": [
    "import os\n",
    "import bz2\n",
    "import re\n",
    "import pandas as pd\n",
    "\n",
    "# Load all triples from files in `data`\n",
    "source_dir = './data'\n",
    "object_pattern = re.compile(b'\\<(.*)\\> \\<(.*)\\> \\<(.*)\\> \\.\\\\n')\n",
    "triples = []\n",
    "for filename in os.listdir(source_dir):\n",
    "    open_func = bz2.open if filename.endswith('.bz2') else open\n",
    "    with open_func(os.path.join(source_dir, filename), mode='rb') as f:\n",
    "        for line in f:\n",
    "            object_triple = object_pattern.match(line)\n",
    "            if object_triple:\n",
    "                triples.append((x.decode('utf-8') for x in object_triple.groups()))\n",
    "df = pd.DataFrame(data=triples, columns=['sub', 'pred', 'obj'])"
   ]
  },
  {
   "cell_type": "code",
   "execution_count": null,
   "metadata": {},
   "outputs": [],
   "source": [
    "# Create files in DGL-KE input format in the folder `dglke`\n",
    "!mkdir -p dglke\n",
    "target_dir = './dglke/'\n",
    "\n",
    "# create ids\n",
    "entities = set(df['sub'].unique()) | set(df['obj'].unique())\n",
    "entity_ids = {e: str(idx) for idx, e in enumerate(entities)}\n",
    "relation_ids = {rel: str(idx) for idx, rel in enumerate(df['pred'].unique())}\n",
    "\n",
    "# create id files\n",
    "def _write_file(data, separator, filename):\n",
    "    filepath = os.path.join(target_dir, filename)\n",
    "    with open(filepath, mode='w') as f:\n",
    "        for vals in data:\n",
    "            f.write(f'{separator.join(vals)}\\n')\n",
    "\n",
    "_write_file([(idx, e) for e, idx in entity_ids.items()], '\\t', './dglke/entities.dict')\n",
    "_write_file([(idx, r) for r, idx in relation_ids.items()], '\\t', './dglke/relations.dict')\n",
    "\n",
    "# create training file\n",
    "training_data = []\n",
    "for _, row in df.iterrows():\n",
    "    training_data.append((entity_ids[row['sub']], relation_ids[row['pred']], entity_ids[row['obj']]))\n",
    "_write_file(training_data, '\\t', './dglke/train.tsv')"
   ]
  },
  {
   "cell_type": "markdown",
   "metadata": {},
   "source": [
    "# Run approaches and write embedding vectors"
   ]
  },
  {
   "cell_type": "code",
   "execution_count": null,
   "metadata": {},
   "outputs": [],
   "source": [
    "# configure the GPU id to use\n",
    "GPU = '0'\n",
    "\n",
    "import subprocess\n",
    "import numpy as np\n",
    "\n",
    "def run_for_approaches(approach_configs):\n",
    "    for config in approach_configs:\n",
    "        print(f\"Creating embeddings for {config['name']}..\")\n",
    "        _train_embedding(config)\n",
    "        print(f\"Creating txt vectors for {config['name']}..\")\n",
    "        _convert_to_txt_vectors(config)\n",
    "\n",
    "def _train_embedding(config):\n",
    "    os.environ['DGLBACKEND'] = 'pytorch'\n",
    "    command = [\n",
    "        'dglke_train',\n",
    "        '--model_name', config['model'],\n",
    "        '--gpu', GPU,\n",
    "        '--dataset', 'DBpedia',\n",
    "        '--data_files', 'dglke/entities.dict', 'dglke/relations.dict', 'dglke/train.tsv',\n",
    "        '--format', 'udd_hrt',\n",
    "        '--batch_size', '1000',\n",
    "        '--neg_sample_size', '200',\n",
    "        '--hidden_dim', '200',\n",
    "        '--gamma', config['gamma'],\n",
    "        '--lr', config['lr'],\n",
    "        '--max_step', '1000000',\n",
    "        '--log_interval', '1000',\n",
    "        '-adv',\n",
    "        '--mix_cpu_gpu'\n",
    "    ]\n",
    "    if 'regularization_coef' in config:\n",
    "        command.extend(['--regularization_coef', config['regularization_coef']])\n",
    "    if config['model'] == 'RotatE':\n",
    "        command[20] = '100'\n",
    "        command.append('-de')\n",
    "        \n",
    "    process = subprocess.Popen(command, stdout=subprocess.PIPE, stderr=subprocess.PIPE)\n",
    "    print(process.communicate()[1])\n",
    "    \n",
    "\n",
    "def _convert_to_txt_vectors(config):\n",
    "    checkpoint_file = f\"./ckpts/{config['model']}_DBpedia_0/DBpedia_{config['model']}_entity.npy\"\n",
    "    vector_file = f\"./dglke/vectors_dbpedia_{config['name']}.txt\"\n",
    "    \n",
    "    entity_dict = pd.read_csv('./dglke/entities.dict', index_col=0, sep='\\t', header=None, names=['entity'])\n",
    "    data = pd.DataFrame(data=np.load(checkpoint_file), columns=range(200))\n",
    "    entity_vectors = pd.merge(entity_dict, data, left_index=True, right_index=True)\n",
    "    entity_vectors.to_csv(vector_file, sep=' ', header=False, index=False)"
   ]
  },
  {
   "cell_type": "code",
   "execution_count": null,
   "metadata": {},
   "outputs": [],
   "source": [
    "# define config for all embedding approaches and run DGL-KE\n",
    "TRAIN_CONFIG = [\n",
    "    {\n",
    "        'name': 'TransE-L1',\n",
    "        'model': 'TransE_l1',\n",
    "        'gamma': '12.0',\n",
    "        'lr': '0.007',\n",
    "        'regularization_coef': '2e-07'\n",
    "    },\n",
    "    {\n",
    "        'name': 'TransE-L2',\n",
    "        'model': 'TransE_l2',\n",
    "        'gamma': '10.0',\n",
    "        'lr': '0.1',\n",
    "        'regularization_coef': '1e-9'\n",
    "    },\n",
    "    {\n",
    "        'name': 'TransR',\n",
    "        'model': 'TransR',\n",
    "        'gamma': '8.0',\n",
    "        'lr': '0.015',\n",
    "        'regularization_coef': '5e-8'\n",
    "    },\n",
    "    {\n",
    "        'name': 'RotatE',\n",
    "        'model': 'RotatE',\n",
    "        'gamma': '12.0',\n",
    "        'lr': '0.01',\n",
    "        'regularization_coef': '1e-7'\n",
    "    },\n",
    "    {\n",
    "        'name': 'DistMult',\n",
    "        'model': 'DistMult',\n",
    "        'gamma': '143.0',\n",
    "        'lr': '0.08'\n",
    "    },\n",
    "    {\n",
    "        'name': 'RESCAL',\n",
    "        'model': 'RESCAL',\n",
    "        'gamma': '24.0',\n",
    "        'lr': '0.03'\n",
    "    },\n",
    "    {\n",
    "        'name': 'ComplEx',\n",
    "        'model': 'ComplEx',\n",
    "        'gamma': '143.0',\n",
    "        'lr': '0.1',\n",
    "        'regularization_coef': '2.00E-06'\n",
    "    },\n",
    "]\n",
    "\n",
    "run_for_approaches(TRAIN_CONFIG)"
   ]
  }
 ],
 "metadata": {
  "kernelspec": {
   "display_name": "Python 3",
   "language": "python",
   "name": "python3"
  },
  "language_info": {
   "codemirror_mode": {
    "name": "ipython",
    "version": 3
   },
   "file_extension": ".py",
   "mimetype": "text/x-python",
   "name": "python",
   "nbconvert_exporter": "python",
   "pygments_lexer": "ipython3",
   "version": "3.8.3"
  }
 },
 "nbformat": 4,
 "nbformat_minor": 4
}
